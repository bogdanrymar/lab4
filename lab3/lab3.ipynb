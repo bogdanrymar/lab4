{
 "cells": [
  {
   "metadata": {},
   "cell_type": "markdown",
   "source": [
    "# Lab 3\n",
    "\n",
    "**ПІДСУМОВУВАННЯ ТЕКСТУ ІЗ ЗАСТОСУВАННЯМ МОДЕЛЕЙ HUGGING FACE**"
   ],
   "id": "2d5a0b40d37cb0fa"
  },
  {
   "metadata": {
    "collapsed": true,
    "ExecuteTime": {
     "end_time": "2025-10-11T23:05:08.675008Z",
     "start_time": "2025-10-11T23:05:08.671430Z"
    }
   },
   "cell_type": "code",
   "source": [
    "from datasets import load_dataset\n",
    "import evaluate\n",
    "from transformers import pipeline\n",
    "from transformers import (PegasusTokenizer, PegasusForConditionalGeneration,\n",
    "                          T5Tokenizer, T5ForConditionalGeneration)"
   ],
   "id": "b76ba984fa153b9a",
   "outputs": [],
   "execution_count": 44
  },
  {
   "metadata": {},
   "cell_type": "markdown",
   "source": "In case you need to login",
   "id": "2fc64fafae172f78"
  },
  {
   "metadata": {},
   "cell_type": "code",
   "source": [
    "from huggingface_hub import login\n",
    "login()"
   ],
   "id": "bb79deea7ccf9c76",
   "outputs": [],
   "execution_count": null
  },
  {
   "metadata": {},
   "cell_type": "markdown",
   "source": "Load ROUTE metric",
   "id": "acd7f2201257abcd"
  },
  {
   "metadata": {
    "ExecuteTime": {
     "end_time": "2025-10-11T23:05:13.018642Z",
     "start_time": "2025-10-11T23:05:09.854350Z"
    }
   },
   "cell_type": "code",
   "source": "rouge = evaluate.load(\"rouge\")",
   "id": "c953f2d7f1268392",
   "outputs": [
    {
     "data": {
      "text/plain": [
       "Downloading builder script: 0.00B [00:00, ?B/s]"
      ],
      "application/vnd.jupyter.widget-view+json": {
       "version_major": 2,
       "version_minor": 0,
       "model_id": "fd7d9ea2e53942e08e055ef2b6a441a6"
      }
     },
     "metadata": {},
     "output_type": "display_data",
     "jetTransient": {
      "display_id": null
     }
    }
   ],
   "execution_count": 45
  },
  {
   "metadata": {},
   "cell_type": "markdown",
   "source": "## Create Summarizer",
   "id": "c56b40f25b26d554"
  },
  {
   "metadata": {
    "ExecuteTime": {
     "end_time": "2025-10-11T22:32:54.051370Z",
     "start_time": "2025-10-11T22:32:54.048218Z"
    }
   },
   "cell_type": "code",
   "source": "model_name = \"google/pegasus-cnn_dailymail\"",
   "id": "a16605fa6b6f85e3",
   "outputs": [],
   "execution_count": 5
  },
  {
   "metadata": {
    "ExecuteTime": {
     "end_time": "2025-10-11T22:47:25.694487Z",
     "start_time": "2025-10-11T22:47:25.690688Z"
    }
   },
   "cell_type": "code",
   "source": "model_name = \"facebook/bart-large-cnn\"",
   "id": "e9d058606c9a3ea2",
   "outputs": [],
   "execution_count": 6
  },
  {
   "metadata": {
    "ExecuteTime": {
     "end_time": "2025-10-11T22:38:17.475350Z",
     "start_time": "2025-10-11T22:38:17.471825Z"
    }
   },
   "cell_type": "code",
   "source": "model_name = \"Falconsai/text_summarization\"",
   "id": "aad5736f96fc0cc4",
   "outputs": [],
   "execution_count": 2
  },
  {
   "metadata": {
    "ExecuteTime": {
     "end_time": "2025-10-11T22:43:37.088062Z",
     "start_time": "2025-10-11T22:43:37.084495Z"
    }
   },
   "cell_type": "code",
   "source": "model_name = \"alldaypa/autotrain-nyc_airbnb-71855138766\"",
   "id": "d5dddce1f82b0416",
   "outputs": [],
   "execution_count": 10
  },
  {
   "metadata": {
    "ExecuteTime": {
     "end_time": "2025-10-11T22:50:02.203706Z",
     "start_time": "2025-10-11T22:50:02.200202Z"
    }
   },
   "cell_type": "code",
   "source": "model_name = \"madushakv/t5_xsum_samsum_billsum_cnn_dailymail\"",
   "id": "217eb22e83917fa3",
   "outputs": [],
   "execution_count": 8
  },
  {
   "metadata": {
    "ExecuteTime": {
     "end_time": "2025-10-11T22:50:31.578931Z",
     "start_time": "2025-10-11T22:50:03.518742Z"
    }
   },
   "cell_type": "code",
   "source": "summarizer = pipeline(\"summarization\", model=model_name)",
   "id": "b981aaa88af0cc9e",
   "outputs": [
    {
     "data": {
      "text/plain": [
       "config.json: 0.00B [00:00, ?B/s]"
      ],
      "application/vnd.jupyter.widget-view+json": {
       "version_major": 2,
       "version_minor": 0,
       "model_id": "94847bfd1a464e6387b3ab3a3fca291e"
      }
     },
     "metadata": {},
     "output_type": "display_data",
     "jetTransient": {
      "display_id": null
     }
    },
    {
     "data": {
      "text/plain": [
       "model.safetensors:   0%|          | 0.00/242M [00:00<?, ?B/s]"
      ],
      "application/vnd.jupyter.widget-view+json": {
       "version_major": 2,
       "version_minor": 0,
       "model_id": "6e1d639dca1947aa94a94c3bce01830d"
      }
     },
     "metadata": {},
     "output_type": "display_data",
     "jetTransient": {
      "display_id": null
     }
    },
    {
     "data": {
      "text/plain": [
       "generation_config.json:   0%|          | 0.00/112 [00:00<?, ?B/s]"
      ],
      "application/vnd.jupyter.widget-view+json": {
       "version_major": 2,
       "version_minor": 0,
       "model_id": "2dcf6242a5e8408fb0c267639f6fbafa"
      }
     },
     "metadata": {},
     "output_type": "display_data",
     "jetTransient": {
      "display_id": null
     }
    },
    {
     "data": {
      "text/plain": [
       "tokenizer_config.json: 0.00B [00:00, ?B/s]"
      ],
      "application/vnd.jupyter.widget-view+json": {
       "version_major": 2,
       "version_minor": 0,
       "model_id": "e4e9c82c4013404b851df49da5110d49"
      }
     },
     "metadata": {},
     "output_type": "display_data",
     "jetTransient": {
      "display_id": null
     }
    },
    {
     "data": {
      "text/plain": [
       "spiece.model:   0%|          | 0.00/792k [00:00<?, ?B/s]"
      ],
      "application/vnd.jupyter.widget-view+json": {
       "version_major": 2,
       "version_minor": 0,
       "model_id": "af34fad7778840c1812c642947533652"
      }
     },
     "metadata": {},
     "output_type": "display_data",
     "jetTransient": {
      "display_id": null
     }
    },
    {
     "data": {
      "text/plain": [
       "tokenizer.json: 0.00B [00:00, ?B/s]"
      ],
      "application/vnd.jupyter.widget-view+json": {
       "version_major": 2,
       "version_minor": 0,
       "model_id": "21439f5d73514011a4630ad0b8ae768f"
      }
     },
     "metadata": {},
     "output_type": "display_data",
     "jetTransient": {
      "display_id": null
     }
    },
    {
     "data": {
      "text/plain": [
       "special_tokens_map.json: 0.00B [00:00, ?B/s]"
      ],
      "application/vnd.jupyter.widget-view+json": {
       "version_major": 2,
       "version_minor": 0,
       "model_id": "1e4c3608073a47d18b949311a15bf0ec"
      }
     },
     "metadata": {},
     "output_type": "display_data",
     "jetTransient": {
      "display_id": null
     }
    },
    {
     "name": "stderr",
     "output_type": "stream",
     "text": [
      "Device set to use cpu\n"
     ]
    }
   ],
   "execution_count": 9
  },
  {
   "metadata": {},
   "cell_type": "markdown",
   "source": "## Summarize",
   "id": "44254ebcf0df39a8"
  },
  {
   "metadata": {
    "ExecuteTime": {
     "end_time": "2025-10-11T22:50:33.739803Z",
     "start_time": "2025-10-11T22:50:33.736352Z"
    }
   },
   "cell_type": "code",
   "source": [
    "with open(\"backlash_as_new_eu_political_ad_rules_kick_in.txt\", 'r') as f:\n",
    "    text = f.read()"
   ],
   "id": "24d710ee53a91d98",
   "outputs": [],
   "execution_count": 10
  },
  {
   "metadata": {
    "ExecuteTime": {
     "end_time": "2025-10-11T22:44:27.821864Z",
     "start_time": "2025-10-11T22:44:27.804767Z"
    }
   },
   "cell_type": "code",
   "source": [
    "with open(\"rating_26_years_of_java_changes.txt\", 'r') as f:\n",
    "    text = f.read()"
   ],
   "id": "5b7cfcbd498727f5",
   "outputs": [],
   "execution_count": 14
  },
  {
   "metadata": {
    "ExecuteTime": {
     "end_time": "2025-10-11T22:50:41.756755Z",
     "start_time": "2025-10-11T22:50:34.703073Z"
    }
   },
   "cell_type": "code",
   "source": "summarizer(text)",
   "id": "ca78b4f5e0cef5f8",
   "outputs": [
    {
     "name": "stderr",
     "output_type": "stream",
     "text": [
      "Token indices sequence length is longer than the specified maximum sequence length for this model (1303 > 512). Running this sequence through the model will result in indexing errors\n"
     ]
    },
    {
     "data": {
      "text/plain": [
       "[{'summary_text': 'Google, Meta and Microsoft have all opted to stop showing political ads in the EU altogether . Politicians on both sides of the aisle said it could be detrimental to democratic debate . The Commission said it is aware of the serious concerns and is continuing talks with Big Tech companies to mitigate the unintended impacts .'}]"
      ]
     },
     "execution_count": 11,
     "metadata": {},
     "output_type": "execute_result"
    }
   ],
   "execution_count": 11
  },
  {
   "metadata": {},
   "cell_type": "markdown",
   "source": "## Use Directly",
   "id": "9f6d719ef30f3a12"
  },
  {
   "metadata": {},
   "cell_type": "code",
   "outputs": [],
   "execution_count": null,
   "source": [
    "tokenizer = PegasusTokenizer.from_pretrained(model_name)\n",
    "model = PegasusForConditionalGeneration.from_pretrained(model_name)"
   ],
   "id": "5751b5a823a631ac"
  },
  {
   "metadata": {
    "ExecuteTime": {
     "end_time": "2025-10-11T22:51:54.485367Z",
     "start_time": "2025-10-11T22:51:52.687652Z"
    }
   },
   "cell_type": "code",
   "source": [
    "tokenizer = T5Tokenizer.from_pretrained(model_name)\n",
    "model = T5ForConditionalGeneration.from_pretrained(model_name)"
   ],
   "id": "2130d75a08875eb4",
   "outputs": [
    {
     "name": "stderr",
     "output_type": "stream",
     "text": [
      "You are using the default legacy behaviour of the <class 'transformers.models.t5.tokenization_t5.T5Tokenizer'>. This is expected, and simply means that the `legacy` (previous) behavior will be used so nothing changes for you. If you want to use the new behaviour, set `legacy=False`. This should only be set if you understand what it means, and thoroughly read the reason why this was added as explained in https://github.com/huggingface/transformers/pull/24565\n"
     ]
    }
   ],
   "execution_count": 14
  },
  {
   "metadata": {},
   "cell_type": "markdown",
   "source": "Encode input text for the model",
   "id": "90326ad1439469c8"
  },
  {
   "metadata": {
    "ExecuteTime": {
     "end_time": "2025-10-11T22:52:02.907049Z",
     "start_time": "2025-10-11T22:52:02.809424Z"
    }
   },
   "cell_type": "code",
   "source": [
    "inputs = tokenizer(text, truncation=True, padding=\"longest\", return_tensors=\"pt\")\n",
    "inputs"
   ],
   "id": "511d04e7304363e0",
   "outputs": [
    {
     "data": {
      "text/plain": [
       "{'input_ids': tensor([[    3,  6934,  3063, 23143,   134,     3,   318,  8767,  1611,  3545,\n",
       "          2219,  3855,    12,  1172, 13567,   300,   367, 20356,    43,     3,\n",
       "             7, 16669,     3,     9,  6772,    13, 12334,     6,    38,   779,\n",
       "          5357,  6979,   323,  1827,  6543,  1446,    13,  9095,    53,     5,\n",
       "         18409,   277,   497,     8,   973,    56,  1137,     3,     9, 10947,\n",
       "          1453,    13,   251,   227,    34,     3, 18728,   688,   379,  1163,\n",
       "             6, 14204,    11,  2803,    12,  4028,     3,     9,  1001,   670,\n",
       "            30,  1827,  3662,     5, 14984,  7137,    30,   321,  4458,    13,\n",
       "             8, 23597,   243,    34,   228,    36, 28879,    12, 15053,  5054,\n",
       "             5,    37,  3527,   243,    34,    19,  2718,    13,     8,  2261,\n",
       "          3315,    11,    19,  6168,  6927,    28,  2734,  7130,   688,    12,\n",
       "         21002,     8,    73,    23, 25916, 11737,     5,   486,     8,   842,\n",
       "            13,     8,  3371,    31,     7,  3332,    19,     3,     9,  6894,\n",
       "            12, 16110,  1827, 18175,    11,  2959, 20511,   383,  9768,     5,\n",
       "            37,   126,   973,    30,  4946,  1893,  4392,    11, 12615,    53,\n",
       "            13, 19289, 21540,     6,    84, 19206,    26,    16,    30,  1701,\n",
       "             6,  3200,   126,  9076,    11, 13567,  1502,    21,  1866,  1827,\n",
       "          6543,     5,  1541,     8,   973,    47,  4686,     6,  1163,     6,\n",
       "         14204,    11,  2803,    43,    66,     3, 18313,    12,  1190,  2924,\n",
       "          1827,  6543,    16,     8,  3371, 16889,     5,   105,   134,    51,\n",
       "         11211,     6,   126,    49,  2251,    11,  2547,  4341,    56,  2615,\n",
       "            46,  2950,  4245,    12,  1535, 10861,     6,   298,   508,     6,\n",
       "           168,    18, 25278,    15,    26,  3744,  2367,     3,  6974,    73,\n",
       "             9, 27488,   642,   243, 10215,   180,  5850,  1639,  3371,   973,\n",
       "          8337,   781,   106,  5561,   205,    99,  8843,  2975,   411,     7,\n",
       "          1788,   107,    32,     2,    32,   208,  2975,     5,   105, 11880,\n",
       "          4108,  5217,  5658,    53,   113,    54,    36,  1943,    11,   656,\n",
       "          2066,    53,  7501,    21,   126,   287,   277,  1239,   451,   243,\n",
       "            24,    57,     3,     9,   226,    53,  1827,  3662,     6,  5357,\n",
       "            33,   105, 14867,     8,  1842,  2981,   642,    84,   255,  9544,\n",
       "            38,   105,     9, 19348,  3240,   153,    13,  5256,  5654, 17285,\n",
       "            53,    12,  2762, 12326,     7,    28,  3356, 13730,     5,     3,\n",
       "          7264,     8,  1502,     6,     8,   973,  7328,    24,  5357,   370,\n",
       "           251,    30,   125,  4356,     6, 20037,    42, 14751,   433,     8,\n",
       "             3,     9,    26,    19,  5229,    12,     6,   149,   231,    34,\n",
       "           583,    11,  1030,    30,   136, 13972,  2097,   261,     5,    86,\n",
       "             3,     9, 22587,    70,  3055,     6,  1163,   243,     8,  4903,\n",
       "            13,  1827,  3662,    19,   396,  4358,     6,   298, 14204,     3,\n",
       "         27624,  7774,     3,     9,    26,  9076,    24,  9751,     8,   105,\n",
       "         15719,  5616,     7,   784,   858,  9354,  6543,   908,    12, 22680,\n",
       "            11,     8,   151,    79,   241,    12,  1535,  1239, 16073,   614,\n",
       "            18,  3535,  1144,    13,     8,  1611, 12876,  2745,    32,    17,\n",
       "            52, 25391,   243,     8,  2219,    33,    46,   677,    13,   147,\n",
       "            18, 27522,  2767,  3645,     5,   105,   634,  1827,   512,    56,\n",
       "            36,     3, 27356,     6,    28,   508,     6,   168,    18,  5661,\n",
       "          2251,   578,     8,  1438,    12,   942,     8,   126,  1502,     5,\n",
       "           100, 23248,     7, 28037,   159,    51,    11,  4333,    13,   452,\n",
       "          5054,   642,     3,    88,   243,     5, 14818,   317,     8,  1001,\n",
       "           670,    56,  1656, 26533, 13446,    28,    72,  5272,  2441,     6,\n",
       "            12,     8,    20,  1788,   297,    13,   273,    28,  8107, 16324,\n",
       "             5,   105,  3774,  1178,   129,   943,   770,  2441,    21, 13006,\n",
       "          1291,     1]]), 'attention_mask': tensor([[1, 1, 1, 1, 1, 1, 1, 1, 1, 1, 1, 1, 1, 1, 1, 1, 1, 1, 1, 1, 1, 1, 1, 1,\n",
       "         1, 1, 1, 1, 1, 1, 1, 1, 1, 1, 1, 1, 1, 1, 1, 1, 1, 1, 1, 1, 1, 1, 1, 1,\n",
       "         1, 1, 1, 1, 1, 1, 1, 1, 1, 1, 1, 1, 1, 1, 1, 1, 1, 1, 1, 1, 1, 1, 1, 1,\n",
       "         1, 1, 1, 1, 1, 1, 1, 1, 1, 1, 1, 1, 1, 1, 1, 1, 1, 1, 1, 1, 1, 1, 1, 1,\n",
       "         1, 1, 1, 1, 1, 1, 1, 1, 1, 1, 1, 1, 1, 1, 1, 1, 1, 1, 1, 1, 1, 1, 1, 1,\n",
       "         1, 1, 1, 1, 1, 1, 1, 1, 1, 1, 1, 1, 1, 1, 1, 1, 1, 1, 1, 1, 1, 1, 1, 1,\n",
       "         1, 1, 1, 1, 1, 1, 1, 1, 1, 1, 1, 1, 1, 1, 1, 1, 1, 1, 1, 1, 1, 1, 1, 1,\n",
       "         1, 1, 1, 1, 1, 1, 1, 1, 1, 1, 1, 1, 1, 1, 1, 1, 1, 1, 1, 1, 1, 1, 1, 1,\n",
       "         1, 1, 1, 1, 1, 1, 1, 1, 1, 1, 1, 1, 1, 1, 1, 1, 1, 1, 1, 1, 1, 1, 1, 1,\n",
       "         1, 1, 1, 1, 1, 1, 1, 1, 1, 1, 1, 1, 1, 1, 1, 1, 1, 1, 1, 1, 1, 1, 1, 1,\n",
       "         1, 1, 1, 1, 1, 1, 1, 1, 1, 1, 1, 1, 1, 1, 1, 1, 1, 1, 1, 1, 1, 1, 1, 1,\n",
       "         1, 1, 1, 1, 1, 1, 1, 1, 1, 1, 1, 1, 1, 1, 1, 1, 1, 1, 1, 1, 1, 1, 1, 1,\n",
       "         1, 1, 1, 1, 1, 1, 1, 1, 1, 1, 1, 1, 1, 1, 1, 1, 1, 1, 1, 1, 1, 1, 1, 1,\n",
       "         1, 1, 1, 1, 1, 1, 1, 1, 1, 1, 1, 1, 1, 1, 1, 1, 1, 1, 1, 1, 1, 1, 1, 1,\n",
       "         1, 1, 1, 1, 1, 1, 1, 1, 1, 1, 1, 1, 1, 1, 1, 1, 1, 1, 1, 1, 1, 1, 1, 1,\n",
       "         1, 1, 1, 1, 1, 1, 1, 1, 1, 1, 1, 1, 1, 1, 1, 1, 1, 1, 1, 1, 1, 1, 1, 1,\n",
       "         1, 1, 1, 1, 1, 1, 1, 1, 1, 1, 1, 1, 1, 1, 1, 1, 1, 1, 1, 1, 1, 1, 1, 1,\n",
       "         1, 1, 1, 1, 1, 1, 1, 1, 1, 1, 1, 1, 1, 1, 1, 1, 1, 1, 1, 1, 1, 1, 1, 1,\n",
       "         1, 1, 1, 1, 1, 1, 1, 1, 1, 1, 1, 1, 1, 1, 1, 1, 1, 1, 1, 1, 1, 1, 1, 1,\n",
       "         1, 1, 1, 1, 1, 1, 1, 1, 1, 1, 1, 1, 1, 1, 1, 1, 1, 1, 1, 1, 1, 1, 1, 1,\n",
       "         1, 1, 1, 1, 1, 1, 1, 1, 1, 1, 1, 1, 1, 1, 1, 1, 1, 1, 1, 1, 1, 1, 1, 1,\n",
       "         1, 1, 1, 1, 1, 1, 1, 1]])}"
      ]
     },
     "execution_count": 15,
     "metadata": {},
     "output_type": "execute_result"
    }
   ],
   "execution_count": 15
  },
  {
   "metadata": {},
   "cell_type": "markdown",
   "source": "Generate summary with custom parameters",
   "id": "865217e5a730afe1"
  },
  {
   "metadata": {
    "ExecuteTime": {
     "end_time": "2025-10-11T22:56:19.238041Z",
     "start_time": "2025-10-11T22:56:17.399774Z"
    }
   },
   "cell_type": "code",
   "source": [
    "summary_ids = model.generate(\n",
    "    **inputs,\n",
    "    max_length=30,  # maximum length of the summary\n",
    "    min_length=10,  # minimum length of the summary\n",
    "    num_beams=4,  # beam search for better results\n",
    "    length_penalty=1.0,  # penalize very long summaries\n",
    "    early_stopping=True,\n",
    ")\n",
    "tokenizer.decode(summary_ids[0], skip_special_tokens=True)"
   ],
   "id": "4e04ccbcb6aa99d7",
   "outputs": [
    {
     "data": {
      "text/plain": [
       "'Fresh European Union rules intended to improve transparency around online advertisements have sparked a wave of criticism. Campaigners say the law will cause'"
      ]
     },
     "execution_count": 32,
     "metadata": {},
     "output_type": "execute_result"
    }
   ],
   "execution_count": 32
  },
  {
   "metadata": {},
   "cell_type": "markdown",
   "source": "## Experiment",
   "id": "dd554d9bbec497f7"
  },
  {
   "metadata": {
    "ExecuteTime": {
     "end_time": "2025-10-11T22:56:29.706096Z",
     "start_time": "2025-10-11T22:56:27.024221Z"
    }
   },
   "cell_type": "code",
   "source": [
    "summary_ids = model.generate(\n",
    "    **inputs,\n",
    "    do_sample=True,  # enable sampling instead of beam search\n",
    "    temperature=0.2,  # lower = more focused, higher = more random\n",
    "    top_k=50,  # limit sampling to top-k words\n",
    "    max_length=80,\n",
    "    min_length=20,\n",
    ")\n",
    "tokenizer.decode(summary_ids[0], skip_special_tokens=True)"
   ],
   "id": "f4a0d502a199b6b5",
   "outputs": [
    {
     "data": {
      "text/plain": [
       "'s, Google, Meta and Microsoft have all opted to stop showing political ads in the EU altogether. Campaigners say the law will cause a harmful loss of information after it triggered companies to blackout. Google, Meta and Microsoft have all opted to stop showing political ads in the EU altogether.'"
      ]
     },
     "execution_count": 33,
     "metadata": {},
     "output_type": "execute_result"
    }
   ],
   "execution_count": 33
  },
  {
   "metadata": {
    "ExecuteTime": {
     "end_time": "2025-10-11T22:58:16.254647Z",
     "start_time": "2025-10-11T22:58:13.483237Z"
    }
   },
   "cell_type": "code",
   "source": [
    "summary_ids = model.generate(\n",
    "    **inputs,\n",
    "    do_sample=True,\n",
    "    temperature=5.0,\n",
    "    top_k=2,\n",
    "    top_p=0.7,\n",
    "    max_length=1000,\n",
    "    min_length=20,\n",
    ")\n",
    "tokenizer.decode(summary_ids[0], skip_special_tokens=True)"
   ],
   "id": "b7d3f882c8790254",
   "outputs": [
    {
     "data": {
      "text/plain": [
       "'– New European EU law on Transparency and Targeted of Politica. Fresh rules intended to enhance transparency around online ads have prompted a wave of criticism. Politicians on both sides said the law could be detrimental to democratic debate. Campaigners said the law could be detrimental for democracy. The new law on transparency of paid political advertising brings new restrictions and transparency requirement. The new law brings new restrictions and transparencies for paid political ads.'"
      ]
     },
     "execution_count": 37,
     "metadata": {},
     "output_type": "execute_result"
    }
   ],
   "execution_count": 37
  },
  {
   "metadata": {},
   "cell_type": "markdown",
   "source": [
    "## Load Dataset\n",
    "\n",
    "Take first 5 examples for demo"
   ],
   "id": "4aa31c9605f32f5"
  },
  {
   "metadata": {
    "ExecuteTime": {
     "end_time": "2025-10-11T23:01:51.318570Z",
     "start_time": "2025-10-11T23:00:12.655705Z"
    }
   },
   "cell_type": "code",
   "source": [
    "dataset = load_dataset(\"abisee/cnn_dailymail\", \"3.0.0\", split=\"train[:5]\")\n",
    "dataset"
   ],
   "id": "b58256886f5ca967",
   "outputs": [
    {
     "data": {
      "text/plain": [
       "README.md: 0.00B [00:00, ?B/s]"
      ],
      "application/vnd.jupyter.widget-view+json": {
       "version_major": 2,
       "version_minor": 0,
       "model_id": "81e1ead429174be3b58ca32644984871"
      }
     },
     "metadata": {},
     "output_type": "display_data",
     "jetTransient": {
      "display_id": null
     }
    },
    {
     "data": {
      "text/plain": [
       "3.0.0/train-00000-of-00003.parquet:   0%|          | 0.00/257M [00:00<?, ?B/s]"
      ],
      "application/vnd.jupyter.widget-view+json": {
       "version_major": 2,
       "version_minor": 0,
       "model_id": "b794ba69f7e145c880966de4aafc89d3"
      }
     },
     "metadata": {},
     "output_type": "display_data",
     "jetTransient": {
      "display_id": null
     }
    },
    {
     "data": {
      "text/plain": [
       "3.0.0/train-00001-of-00003.parquet:   0%|          | 0.00/257M [00:00<?, ?B/s]"
      ],
      "application/vnd.jupyter.widget-view+json": {
       "version_major": 2,
       "version_minor": 0,
       "model_id": "914cbead76a04ecf90266b73714f235b"
      }
     },
     "metadata": {},
     "output_type": "display_data",
     "jetTransient": {
      "display_id": null
     }
    },
    {
     "data": {
      "text/plain": [
       "3.0.0/train-00002-of-00003.parquet:   0%|          | 0.00/259M [00:00<?, ?B/s]"
      ],
      "application/vnd.jupyter.widget-view+json": {
       "version_major": 2,
       "version_minor": 0,
       "model_id": "9597897e43da4b37b5d2b379ee5cd8eb"
      }
     },
     "metadata": {},
     "output_type": "display_data",
     "jetTransient": {
      "display_id": null
     }
    },
    {
     "data": {
      "text/plain": [
       "3.0.0/validation-00000-of-00001.parquet:   0%|          | 0.00/34.7M [00:00<?, ?B/s]"
      ],
      "application/vnd.jupyter.widget-view+json": {
       "version_major": 2,
       "version_minor": 0,
       "model_id": "6784c3653e794a5eb02ae3c1157af5f2"
      }
     },
     "metadata": {},
     "output_type": "display_data",
     "jetTransient": {
      "display_id": null
     }
    },
    {
     "data": {
      "text/plain": [
       "3.0.0/test-00000-of-00001.parquet:   0%|          | 0.00/30.0M [00:00<?, ?B/s]"
      ],
      "application/vnd.jupyter.widget-view+json": {
       "version_major": 2,
       "version_minor": 0,
       "model_id": "c47eb86617bf4df394cdb37c3bf4c0cf"
      }
     },
     "metadata": {},
     "output_type": "display_data",
     "jetTransient": {
      "display_id": null
     }
    },
    {
     "data": {
      "text/plain": [
       "Generating train split:   0%|          | 0/287113 [00:00<?, ? examples/s]"
      ],
      "application/vnd.jupyter.widget-view+json": {
       "version_major": 2,
       "version_minor": 0,
       "model_id": "e96bcd029f4045fcb7d872b2275f7607"
      }
     },
     "metadata": {},
     "output_type": "display_data",
     "jetTransient": {
      "display_id": null
     }
    },
    {
     "data": {
      "text/plain": [
       "Generating validation split:   0%|          | 0/13368 [00:00<?, ? examples/s]"
      ],
      "application/vnd.jupyter.widget-view+json": {
       "version_major": 2,
       "version_minor": 0,
       "model_id": "a3ccb125b014460db2b54fc6289ac1fe"
      }
     },
     "metadata": {},
     "output_type": "display_data",
     "jetTransient": {
      "display_id": null
     }
    },
    {
     "data": {
      "text/plain": [
       "Generating test split:   0%|          | 0/11490 [00:00<?, ? examples/s]"
      ],
      "application/vnd.jupyter.widget-view+json": {
       "version_major": 2,
       "version_minor": 0,
       "model_id": "118c2a7d0b2b4efab63e4754a602c7dc"
      }
     },
     "metadata": {},
     "output_type": "display_data",
     "jetTransient": {
      "display_id": null
     }
    },
    {
     "data": {
      "text/plain": [
       "Dataset({\n",
       "    features: ['article', 'highlights', 'id'],\n",
       "    num_rows: 5\n",
       "})"
      ]
     },
     "execution_count": 39,
     "metadata": {},
     "output_type": "execute_result"
    }
   ],
   "execution_count": 39
  },
  {
   "metadata": {
    "ExecuteTime": {
     "end_time": "2025-10-11T23:02:27.988288Z",
     "start_time": "2025-10-11T23:02:05.564846Z"
    }
   },
   "cell_type": "code",
   "source": [
    "generated_summaries = []\n",
    "reference_summaries = []\n",
    "\n",
    "for i, sample in enumerate(dataset):\n",
    "    text = sample[\"article\"]\n",
    "    reference_summary = sample[\"highlights\"]\n",
    "\n",
    "    # Generate summary using pipeline\n",
    "    generated_summary = summarizer(text, min_length=30, max_length=100)[0][\"summary_text\"]\n",
    "\n",
    "    # Save for later evaluation\n",
    "    generated_summaries.append(generated_summary)\n",
    "    reference_summaries.append(reference_summary)\n",
    "\n",
    "    print(f\"\\n=== Example {i+1} ===\")\n",
    "    print(\"Original article:\\n\", text[:500], \"...\")\n",
    "    print(\"\\nReference summary:\\n\", reference_summary)\n",
    "    print(\"\\nGenerated summary:\\n\", generated_summary)"
   ],
   "id": "101ad8fb73c57402",
   "outputs": [
    {
     "name": "stderr",
     "output_type": "stream",
     "text": [
      "Both `max_new_tokens` (=256) and `max_length`(=100) seem to have been set. `max_new_tokens` will take precedence. Please refer to the documentation for more information. (https://huggingface.co/docs/transformers/main/en/main_classes/text_generation)\n"
     ]
    },
    {
     "name": "stdout",
     "output_type": "stream",
     "text": [
      "\n",
      "=== Example 1 ===\n",
      "Original article:\n",
      " LONDON, England (Reuters) -- Harry Potter star Daniel Radcliffe gains access to a reported £20 million ($41.1 million) fortune as he turns 18 on Monday, but he insists the money won't cast a spell on him. Daniel Radcliffe as Harry Potter in \"Harry Potter and the Order of the Phoenix\" To the disappointment of gossip columnists around the world, the young actor says he has no plans to fritter his cash away on fast cars, drink and celebrity parties. \"I don't plan to be one of those people who, as s ...\n",
      "\n",
      "Reference summary:\n",
      " Harry Potter star Daniel Radcliffe gets £20M fortune as he turns 18 Monday .\n",
      "Young actor says he has no plans to fritter his cash away .\n",
      "Radcliffe's earnings from first five Potter films have been held in trust fund .\n",
      "\n",
      "Generated summary:\n",
      " Harry Potter star Daniel Radcliffe says he has no plans to fritter cash away on fast cars, drink and celebrity parties . At 18, he will be able to buy a drink in a pub or see the horror film \"Hostel: Part II\" The actor has filmed a TV movie about author Rudyard Kipling and his son .\n"
     ]
    },
    {
     "name": "stderr",
     "output_type": "stream",
     "text": [
      "Both `max_new_tokens` (=256) and `max_length`(=100) seem to have been set. `max_new_tokens` will take precedence. Please refer to the documentation for more information. (https://huggingface.co/docs/transformers/main/en/main_classes/text_generation)\n"
     ]
    },
    {
     "name": "stdout",
     "output_type": "stream",
     "text": [
      "\n",
      "=== Example 2 ===\n",
      "Original article:\n",
      " Editor's note: In our Behind the Scenes series, CNN correspondents share their experiences in covering news and analyze the stories behind the events. Here, Soledad O'Brien takes users inside a jail where many of the inmates are mentally ill. An inmate housed on the \"forgotten floor,\" where many mentally ill inmates are housed in Miami before trial. MIAMI, Florida (CNN) -- The ninth floor of the Miami-Dade pretrial detention facility is dubbed the \"forgotten floor.\" Here, inmates with the most s ...\n",
      "\n",
      "Reference summary:\n",
      " Mentally ill inmates in Miami are housed on the \"forgotten floor\"\n",
      "Judge Steven Leifman says most are there as a result of \"avoidable felonies\"\n",
      "While CNN tours facility, patient shouts: \"I am the son of the president\"\n",
      "Leifman says the system is unjust and he's fighting for change .\n",
      "\n",
      "Generated summary:\n",
      " Inmates with most severe mental illnesses are incarcerated until they're ready to appear in court . Judge Steven Leifman says arrests often result from confrontations with police . \"I am the son of the president. You need to get me out of here!\" one man shouts at him .\n"
     ]
    },
    {
     "name": "stderr",
     "output_type": "stream",
     "text": [
      "Both `max_new_tokens` (=256) and `max_length`(=100) seem to have been set. `max_new_tokens` will take precedence. Please refer to the documentation for more information. (https://huggingface.co/docs/transformers/main/en/main_classes/text_generation)\n"
     ]
    },
    {
     "name": "stdout",
     "output_type": "stream",
     "text": [
      "\n",
      "=== Example 3 ===\n",
      "Original article:\n",
      " MINNEAPOLIS, Minnesota (CNN) -- Drivers who were on the Minneapolis bridge when it collapsed told harrowing tales of survival. \"The whole bridge from one side of the Mississippi to the other just completely gave way, fell all the way down,\" survivor Gary Babineau told CNN. \"I probably had a 30-, 35-foot free fall. And there's cars in the water, there's cars on fire. The whole bridge is down.\" He said his back was injured but he determined he could move around. \"I realized there was a school bus  ...\n",
      "\n",
      "Reference summary:\n",
      " NEW: \"I thought I was going to die,\" driver says .\n",
      "Man says pickup truck was folded in half; he just has cut on face .\n",
      "Driver: \"I probably had a 30-, 35-foot free fall\"\n",
      "Minnesota bridge collapsed during rush hour Wednesday .\n",
      "\n",
      "Generated summary:\n",
      " \"I probably had a 30-, 35-foot free fall, and there's cars on fire,\" survivor says . Dr. John Hink jumped into his car and rushed to the scene in 15 minutes . Volunteers, EMTs managed to get 55 people into ambulances in less than two hours .\n"
     ]
    },
    {
     "name": "stderr",
     "output_type": "stream",
     "text": [
      "Both `max_new_tokens` (=256) and `max_length`(=100) seem to have been set. `max_new_tokens` will take precedence. Please refer to the documentation for more information. (https://huggingface.co/docs/transformers/main/en/main_classes/text_generation)\n"
     ]
    },
    {
     "name": "stdout",
     "output_type": "stream",
     "text": [
      "\n",
      "=== Example 4 ===\n",
      "Original article:\n",
      " WASHINGTON (CNN) -- Doctors removed five small polyps from President Bush's colon on Saturday, and \"none appeared worrisome,\" a White House spokesman said. The polyps were removed and sent to the National Naval Medical Center in Bethesda, Maryland, for routine microscopic examination, spokesman Scott Stanzel said. Results are expected in two to three days. All were small, less than a centimeter [half an inch] in diameter, he said. Bush is in good humor, Stanzel said, and will resume his activiti ...\n",
      "\n",
      "Reference summary:\n",
      " Five small polyps found during procedure; \"none worrisome,\" spokesman says .\n",
      "President reclaims powers transferred to vice president .\n",
      "Bush undergoes routine colonoscopy at Camp David .\n",
      "\n",
      "Generated summary:\n",
      " NEW: \"none appeared worrisome,\" White House spokesman says . NEW: Bush will resume his activities at Camp David . New: Vice President Dick Cheney assumed presidential power at 9:21 a.m.\n"
     ]
    },
    {
     "name": "stderr",
     "output_type": "stream",
     "text": [
      "Both `max_new_tokens` (=256) and `max_length`(=100) seem to have been set. `max_new_tokens` will take precedence. Please refer to the documentation for more information. (https://huggingface.co/docs/transformers/main/en/main_classes/text_generation)\n"
     ]
    },
    {
     "name": "stdout",
     "output_type": "stream",
     "text": [
      "\n",
      "=== Example 5 ===\n",
      "Original article:\n",
      " (CNN)  -- The National Football League has indefinitely suspended Atlanta Falcons quarterback Michael Vick without pay, officials with the league said Friday. NFL star Michael Vick is set to appear in court Monday. A judge will have the final say on a plea deal. Earlier, Vick admitted to participating in a dogfighting ring as part of a plea agreement with federal prosecutors in Virginia. \"Your admitted conduct was not only illegal, but also cruel and reprehensible. Your team, the NFL, and NFL fa ...\n",
      "\n",
      "Reference summary:\n",
      " NEW: NFL chief, Atlanta Falcons owner critical of Michael Vick's conduct .\n",
      "NFL suspends Falcons quarterback indefinitely without pay .\n",
      "Vick admits funding dogfighting operation but says he did not gamble .\n",
      "Vick due in federal court Monday; future in NFL remains uncertain .\n",
      "\n",
      "Generated summary:\n",
      " NFL commissioner: \"Your admitted conduct was not only illegal, but also cruel and reprehensible\" Vick admitted to participating in dogfighting ring as part of plea agreement with federal prosecutors . Falcons could \"assert any claims or remedies\" to recover $22 million of Vick's signing bonus .\n"
     ]
    }
   ],
   "execution_count": 40
  },
  {
   "metadata": {},
   "cell_type": "markdown",
   "source": [
    "## Evaluate\n",
    "\n",
    "Compute ROUGE scores using the results"
   ],
   "id": "a4fe037734bdfaa4"
  },
  {
   "metadata": {
    "ExecuteTime": {
     "end_time": "2025-10-11T23:05:40.190364Z",
     "start_time": "2025-10-11T23:05:39.850824Z"
    }
   },
   "cell_type": "code",
   "source": [
    "results = rouge.compute(predictions=generated_summaries, references=reference_summaries)\n",
    "results"
   ],
   "id": "4d357b8fda139dc9",
   "outputs": [
    {
     "data": {
      "text/plain": [
       "{'rouge1': np.float64(0.34465814250497495),\n",
       " 'rouge2': np.float64(0.15943870816897587),\n",
       " 'rougeL': np.float64(0.25003677441844835),\n",
       " 'rougeLsum': np.float64(0.30518590035187765)}"
      ]
     },
     "execution_count": 46,
     "metadata": {},
     "output_type": "execute_result"
    }
   ],
   "execution_count": 46
  }
 ],
 "metadata": {
  "kernelspec": {
   "display_name": "Python 3",
   "language": "python",
   "name": "python3"
  },
  "language_info": {
   "codemirror_mode": {
    "name": "ipython",
    "version": 2
   },
   "file_extension": ".py",
   "mimetype": "text/x-python",
   "name": "python",
   "nbconvert_exporter": "python",
   "pygments_lexer": "ipython2",
   "version": "2.7.6"
  }
 },
 "nbformat": 4,
 "nbformat_minor": 5
}
