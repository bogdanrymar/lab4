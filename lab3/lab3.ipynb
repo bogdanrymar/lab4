{
 "cells": [
  {
   "metadata": {},
   "cell_type": "markdown",
   "source": [
    "# Lab 3\n",
    "\n",
    "**ПІДСУМОВУВАННЯ ТЕКСТУ ІЗ ЗАСТОСУВАННЯМ МОДЕЛЕЙ HUGGING FACE**"
   ],
   "id": "2d5a0b40d37cb0fa"
  },
  {
   "metadata": {
    "collapsed": true,
    "ExecuteTime": {
     "end_time": "2025-10-12T13:26:19.430252Z",
     "start_time": "2025-10-12T13:26:19.426481Z"
    }
   },
   "cell_type": "code",
   "source": [
    "from datasets import load_dataset\n",
    "import evaluate\n",
    "import pandas as pd\n",
    "from transformers import pipeline\n",
    "from transformers import (PegasusTokenizer, PegasusForConditionalGeneration,\n",
    "                          T5Tokenizer, T5ForConditionalGeneration)"
   ],
   "id": "b76ba984fa153b9a",
   "outputs": [],
   "execution_count": 42
  },
  {
   "metadata": {},
   "cell_type": "markdown",
   "source": "In case you need to login",
   "id": "2fc64fafae172f78"
  },
  {
   "metadata": {
    "ExecuteTime": {
     "end_time": "2025-10-12T12:57:09.001967Z",
     "start_time": "2025-10-12T12:57:08.983879Z"
    }
   },
   "cell_type": "code",
   "source": [
    "from huggingface_hub import login\n",
    "\n",
    "login()"
   ],
   "id": "bb79deea7ccf9c76",
   "outputs": [
    {
     "data": {
      "text/plain": [
       "VBox(children=(HTML(value='<center> <img\\nsrc=https://huggingface.co/front/assets/huggingface_logo-noborder.sv…"
      ],
      "application/vnd.jupyter.widget-view+json": {
       "version_major": 2,
       "version_minor": 0,
       "model_id": "03b1a6fefbf54ae98e414e6c037ed4ea"
      }
     },
     "metadata": {},
     "output_type": "display_data",
     "jetTransient": {
      "display_id": null
     }
    }
   ],
   "execution_count": 2
  },
  {
   "metadata": {},
   "cell_type": "markdown",
   "source": "Load ROUTE metric",
   "id": "acd7f2201257abcd"
  },
  {
   "metadata": {
    "ExecuteTime": {
     "end_time": "2025-10-12T12:57:26.062416Z",
     "start_time": "2025-10-12T12:57:22.628890Z"
    }
   },
   "cell_type": "code",
   "source": "rouge = evaluate.load(\"rouge\")",
   "id": "c953f2d7f1268392",
   "outputs": [
    {
     "data": {
      "text/plain": [
       "Downloading builder script: 0.00B [00:00, ?B/s]"
      ],
      "application/vnd.jupyter.widget-view+json": {
       "version_major": 2,
       "version_minor": 0,
       "model_id": "596fe33b325b4957a223581fb24fb0a0"
      }
     },
     "metadata": {},
     "output_type": "display_data",
     "jetTransient": {
      "display_id": null
     }
    }
   ],
   "execution_count": 3
  },
  {
   "metadata": {},
   "cell_type": "markdown",
   "source": "## Create Summarizer",
   "id": "c56b40f25b26d554"
  },
  {
   "metadata": {
    "ExecuteTime": {
     "end_time": "2025-10-11T22:32:54.051370Z",
     "start_time": "2025-10-11T22:32:54.048218Z"
    }
   },
   "cell_type": "code",
   "source": "model_name = \"google/pegasus-cnn_dailymail\"",
   "id": "a16605fa6b6f85e3",
   "outputs": [],
   "execution_count": 5
  },
  {
   "metadata": {
    "ExecuteTime": {
     "end_time": "2025-10-11T22:47:25.694487Z",
     "start_time": "2025-10-11T22:47:25.690688Z"
    }
   },
   "cell_type": "code",
   "source": "model_name = \"facebook/bart-large-cnn\"",
   "id": "e9d058606c9a3ea2",
   "outputs": [],
   "execution_count": 6
  },
  {
   "metadata": {
    "ExecuteTime": {
     "end_time": "2025-10-12T13:36:09.258728Z",
     "start_time": "2025-10-12T13:36:09.255687Z"
    }
   },
   "cell_type": "code",
   "source": "model_name = \"Falconsai/text_summarization\"",
   "id": "aad5736f96fc0cc4",
   "outputs": [],
   "execution_count": 63
  },
  {
   "metadata": {
    "ExecuteTime": {
     "end_time": "2025-10-12T12:59:02.767373Z",
     "start_time": "2025-10-12T12:59:02.764010Z"
    }
   },
   "cell_type": "code",
   "source": "model_name = \"madushakv/t5_xsum_samsum_billsum_cnn_dailymail\"",
   "id": "217eb22e83917fa3",
   "outputs": [],
   "execution_count": 5
  },
  {
   "metadata": {
    "ExecuteTime": {
     "end_time": "2025-10-12T13:36:33.763113Z",
     "start_time": "2025-10-12T13:36:10.181209Z"
    }
   },
   "cell_type": "code",
   "source": "summarizer = pipeline(\"summarization\", model=model_name)",
   "id": "b981aaa88af0cc9e",
   "outputs": [
    {
     "data": {
      "text/plain": [
       "config.json: 0.00B [00:00, ?B/s]"
      ],
      "application/vnd.jupyter.widget-view+json": {
       "version_major": 2,
       "version_minor": 0,
       "model_id": "9417b994326a484da73e6c21bd972c7a"
      }
     },
     "metadata": {},
     "output_type": "display_data",
     "jetTransient": {
      "display_id": null
     }
    },
    {
     "data": {
      "text/plain": [
       "model.safetensors:   0%|          | 0.00/242M [00:00<?, ?B/s]"
      ],
      "application/vnd.jupyter.widget-view+json": {
       "version_major": 2,
       "version_minor": 0,
       "model_id": "15f5331416bf4a489235f5e400c9a36b"
      }
     },
     "metadata": {},
     "output_type": "display_data",
     "jetTransient": {
      "display_id": null
     }
    },
    {
     "data": {
      "text/plain": [
       "generation_config.json:   0%|          | 0.00/112 [00:00<?, ?B/s]"
      ],
      "application/vnd.jupyter.widget-view+json": {
       "version_major": 2,
       "version_minor": 0,
       "model_id": "0a082a888cef47be9bcbde8159c2b9ee"
      }
     },
     "metadata": {},
     "output_type": "display_data",
     "jetTransient": {
      "display_id": null
     }
    },
    {
     "data": {
      "text/plain": [
       "tokenizer_config.json: 0.00B [00:00, ?B/s]"
      ],
      "application/vnd.jupyter.widget-view+json": {
       "version_major": 2,
       "version_minor": 0,
       "model_id": "b606663bbfab44c1b0420047ceffde57"
      }
     },
     "metadata": {},
     "output_type": "display_data",
     "jetTransient": {
      "display_id": null
     }
    },
    {
     "data": {
      "text/plain": [
       "spiece.model:   0%|          | 0.00/792k [00:00<?, ?B/s]"
      ],
      "application/vnd.jupyter.widget-view+json": {
       "version_major": 2,
       "version_minor": 0,
       "model_id": "0085b273ad4d47788e32cda944451270"
      }
     },
     "metadata": {},
     "output_type": "display_data",
     "jetTransient": {
      "display_id": null
     }
    },
    {
     "data": {
      "text/plain": [
       "tokenizer.json: 0.00B [00:00, ?B/s]"
      ],
      "application/vnd.jupyter.widget-view+json": {
       "version_major": 2,
       "version_minor": 0,
       "model_id": "7fe03704cad04906ae2ab6cbd49df45f"
      }
     },
     "metadata": {},
     "output_type": "display_data",
     "jetTransient": {
      "display_id": null
     }
    },
    {
     "data": {
      "text/plain": [
       "special_tokens_map.json: 0.00B [00:00, ?B/s]"
      ],
      "application/vnd.jupyter.widget-view+json": {
       "version_major": 2,
       "version_minor": 0,
       "model_id": "5e16908f0daf46b283c2f6f5534e33e9"
      }
     },
     "metadata": {},
     "output_type": "display_data",
     "jetTransient": {
      "display_id": null
     }
    },
    {
     "name": "stderr",
     "output_type": "stream",
     "text": [
      "Device set to use cpu\n"
     ]
    }
   ],
   "execution_count": 64
  },
  {
   "metadata": {},
   "cell_type": "markdown",
   "source": "## Summarize",
   "id": "44254ebcf0df39a8"
  },
  {
   "metadata": {
    "ExecuteTime": {
     "end_time": "2025-10-12T13:36:59.583388Z",
     "start_time": "2025-10-12T13:36:59.579302Z"
    }
   },
   "cell_type": "code",
   "source": [
    "with open(\"backlash_as_new_eu_political_ad_rules_kick_in.txt\", 'r') as f:\n",
    "    text = f.read()"
   ],
   "id": "24d710ee53a91d98",
   "outputs": [],
   "execution_count": 66
  },
  {
   "metadata": {
    "ExecuteTime": {
     "end_time": "2025-10-12T13:35:40.699014Z",
     "start_time": "2025-10-12T13:35:40.641327Z"
    }
   },
   "cell_type": "code",
   "source": [
    "with open(\"rating_26_years_of_java_changes.txt\", 'r') as f:\n",
    "    text = f.read()"
   ],
   "id": "5b7cfcbd498727f5",
   "outputs": [],
   "execution_count": 61
  },
  {
   "metadata": {
    "ExecuteTime": {
     "end_time": "2025-10-12T13:37:05.761710Z",
     "start_time": "2025-10-12T13:37:00.239680Z"
    }
   },
   "cell_type": "code",
   "source": "summarizer(text)",
   "id": "ca78b4f5e0cef5f8",
   "outputs": [
    {
     "data": {
      "text/plain": [
       "[{'summary_text': \"Google, Meta and Microsoft have opted to stop showing political ads in the EU altogether . Politicians on both sides of the aisle said it could be detrimental to democratic debate . At the heart of the EU's attempt is a bid to curb political manipulation and foreign interference during elections .\"}]"
      ]
     },
     "execution_count": 67,
     "metadata": {},
     "output_type": "execute_result"
    }
   ],
   "execution_count": 67
  },
  {
   "metadata": {},
   "cell_type": "markdown",
   "source": "## Use Directly",
   "id": "9f6d719ef30f3a12"
  },
  {
   "metadata": {},
   "cell_type": "code",
   "outputs": [],
   "execution_count": null,
   "source": [
    "tokenizer = PegasusTokenizer.from_pretrained(model_name)\n",
    "model = PegasusForConditionalGeneration.from_pretrained(model_name)"
   ],
   "id": "5751b5a823a631ac"
  },
  {
   "metadata": {
    "ExecuteTime": {
     "end_time": "2025-10-12T13:37:21.028529Z",
     "start_time": "2025-10-12T13:37:19.216953Z"
    }
   },
   "cell_type": "code",
   "source": [
    "tokenizer = T5Tokenizer.from_pretrained(model_name)\n",
    "model = T5ForConditionalGeneration.from_pretrained(model_name)"
   ],
   "id": "2130d75a08875eb4",
   "outputs": [],
   "execution_count": 68
  },
  {
   "metadata": {},
   "cell_type": "markdown",
   "source": "Encode input text for the model",
   "id": "90326ad1439469c8"
  },
  {
   "metadata": {
    "ExecuteTime": {
     "end_time": "2025-10-12T13:37:22.738549Z",
     "start_time": "2025-10-12T13:37:22.720791Z"
    }
   },
   "cell_type": "code",
   "source": [
    "inputs = tokenizer(text, truncation=True, padding=\"longest\", return_tensors=\"pt\")\n",
    "inputs"
   ],
   "id": "511d04e7304363e0",
   "outputs": [
    {
     "data": {
      "text/plain": [
       "{'input_ids': tensor([[    3,  6934,  3063, 23143,   134,     3,   318,  8767,  1611,  3545,\n",
       "          2219,  3855,    12,  1172, 13567,   300,   367, 20356,    43,     3,\n",
       "             7, 16669,     3,     9,  6772,    13, 12334,     6,    38,   779,\n",
       "          5357,  6979,   323,  1827,  6543,  1446,    13,  9095,    53,     5,\n",
       "         18409,   277,   497,     8,   973,    56,  1137,     3,     9, 10947,\n",
       "          1453,    13,   251,   227,    34,     3, 18728,   688,   379,  1163,\n",
       "             6, 14204,    11,  2803,    12,  4028,     3,     9,  1001,   670,\n",
       "            30,  1827,  3662,     5, 14984,  7137,    30,   321,  4458,    13,\n",
       "             8, 23597,   243,    34,   228,    36, 28879,    12, 15053,  5054,\n",
       "             5,    37,  3527,   243,    34,    19,  2718,    13,     8,  2261,\n",
       "          3315,    11,    19,  6168,  6927,    28,  2734,  7130,   688,    12,\n",
       "         21002,     8,    73,    23, 25916, 11737,     5,   486,     8,   842,\n",
       "            13,     8,  3371,    31,     7,  3332,    19,     3,     9,  6894,\n",
       "            12, 16110,  1827, 18175,    11,  2959, 20511,   383,  9768,     5,\n",
       "            37,   126,   973,    30,  4946,  1893,  4392,    11, 12615,    53,\n",
       "            13, 19289, 21540,     6,    84, 19206,    26,    16,    30,  1701,\n",
       "             6,  3200,   126,  9076,    11, 13567,  1502,    21,  1866,  1827,\n",
       "          6543,     5,  1541,     8,   973,    47,  4686,     6,  1163,     6,\n",
       "         14204,    11,  2803,    43,    66,     3, 18313,    12,  1190,  2924,\n",
       "          1827,  6543,    16,     8,  3371, 16889,     5,   105,   134,    51,\n",
       "         11211,     6,   126,    49,  2251,    11,  2547,  4341,    56,  2615,\n",
       "            46,  2950,  4245,    12,  1535, 10861,     6,   298,   508,     6,\n",
       "           168,    18, 25278,    15,    26,  3744,  2367,     3,  6974,    73,\n",
       "             9, 27488,   642,   243, 10215,   180,  5850,  1639,  3371,   973,\n",
       "          8337,   781,   106,  5561,   205,    99,  8843,  2975,   411,     7,\n",
       "          1788,   107,    32,     2,    32,   208,  2975,     5,   105, 11880,\n",
       "          4108,  5217,  5658,    53,   113,    54,    36,  1943,    11,   656,\n",
       "          2066,    53,  7501,    21,   126,   287,   277,  1239,   451,   243,\n",
       "            24,    57,     3,     9,   226,    53,  1827,  3662,     6,  5357,\n",
       "            33,   105, 14867,     8,  1842,  2981,   642,    84,   255,  9544,\n",
       "            38,   105,     9, 19348,  3240,   153,    13,  5256,  5654, 17285,\n",
       "            53,    12,  2762, 12326,     7,    28,  3356, 13730,     5,     3,\n",
       "          7264,     8,  1502,     6,     8,   973,  7328,    24,  5357,   370,\n",
       "           251,    30,   125,  4356,     6, 20037,    42, 14751,   433,     8,\n",
       "             3,     9,    26,    19,  5229,    12,     6,   149,   231,    34,\n",
       "           583,    11,  1030,    30,   136, 13972,  2097,   261,     5,    86,\n",
       "             3,     9, 22587,    70,  3055,     6,  1163,   243,     8,  4903,\n",
       "            13,  1827,  3662,    19,   396,  4358,     6,   298, 14204,     3,\n",
       "         27624,  7774,     3,     9,    26,  9076,    24,  9751,     8,   105,\n",
       "         15719,  5616,     7,   784,   858,  9354,  6543,   908,    12, 22680,\n",
       "            11,     8,   151,    79,   241,    12,  1535,  1239, 16073,   614,\n",
       "            18,  3535,  1144,    13,     8,  1611, 12876,  2745,    32,    17,\n",
       "            52, 25391,   243,     8,  2219,    33,    46,   677,    13,   147,\n",
       "            18, 27522,  2767,  3645,     5,   105,   634,  1827,   512,    56,\n",
       "            36,     3, 27356,     6,    28,   508,     6,   168,    18,  5661,\n",
       "          2251,   578,     8,  1438,    12,   942,     8,   126,  1502,     5,\n",
       "           100, 23248,     7, 28037,   159,    51,    11,  4333,    13,   452,\n",
       "          5054,   642,     3,    88,   243,     5, 14818,   317,     8,  1001,\n",
       "           670,    56,  1656, 26533, 13446,    28,    72,  5272,  2441,     6,\n",
       "            12,     8,    20,  1788,   297,    13,   273,    28,  8107, 16324,\n",
       "             5,   105,  3774,  1178,   129,   943,   770,  2441,    21, 13006,\n",
       "          1291,     1]]), 'attention_mask': tensor([[1, 1, 1, 1, 1, 1, 1, 1, 1, 1, 1, 1, 1, 1, 1, 1, 1, 1, 1, 1, 1, 1, 1, 1,\n",
       "         1, 1, 1, 1, 1, 1, 1, 1, 1, 1, 1, 1, 1, 1, 1, 1, 1, 1, 1, 1, 1, 1, 1, 1,\n",
       "         1, 1, 1, 1, 1, 1, 1, 1, 1, 1, 1, 1, 1, 1, 1, 1, 1, 1, 1, 1, 1, 1, 1, 1,\n",
       "         1, 1, 1, 1, 1, 1, 1, 1, 1, 1, 1, 1, 1, 1, 1, 1, 1, 1, 1, 1, 1, 1, 1, 1,\n",
       "         1, 1, 1, 1, 1, 1, 1, 1, 1, 1, 1, 1, 1, 1, 1, 1, 1, 1, 1, 1, 1, 1, 1, 1,\n",
       "         1, 1, 1, 1, 1, 1, 1, 1, 1, 1, 1, 1, 1, 1, 1, 1, 1, 1, 1, 1, 1, 1, 1, 1,\n",
       "         1, 1, 1, 1, 1, 1, 1, 1, 1, 1, 1, 1, 1, 1, 1, 1, 1, 1, 1, 1, 1, 1, 1, 1,\n",
       "         1, 1, 1, 1, 1, 1, 1, 1, 1, 1, 1, 1, 1, 1, 1, 1, 1, 1, 1, 1, 1, 1, 1, 1,\n",
       "         1, 1, 1, 1, 1, 1, 1, 1, 1, 1, 1, 1, 1, 1, 1, 1, 1, 1, 1, 1, 1, 1, 1, 1,\n",
       "         1, 1, 1, 1, 1, 1, 1, 1, 1, 1, 1, 1, 1, 1, 1, 1, 1, 1, 1, 1, 1, 1, 1, 1,\n",
       "         1, 1, 1, 1, 1, 1, 1, 1, 1, 1, 1, 1, 1, 1, 1, 1, 1, 1, 1, 1, 1, 1, 1, 1,\n",
       "         1, 1, 1, 1, 1, 1, 1, 1, 1, 1, 1, 1, 1, 1, 1, 1, 1, 1, 1, 1, 1, 1, 1, 1,\n",
       "         1, 1, 1, 1, 1, 1, 1, 1, 1, 1, 1, 1, 1, 1, 1, 1, 1, 1, 1, 1, 1, 1, 1, 1,\n",
       "         1, 1, 1, 1, 1, 1, 1, 1, 1, 1, 1, 1, 1, 1, 1, 1, 1, 1, 1, 1, 1, 1, 1, 1,\n",
       "         1, 1, 1, 1, 1, 1, 1, 1, 1, 1, 1, 1, 1, 1, 1, 1, 1, 1, 1, 1, 1, 1, 1, 1,\n",
       "         1, 1, 1, 1, 1, 1, 1, 1, 1, 1, 1, 1, 1, 1, 1, 1, 1, 1, 1, 1, 1, 1, 1, 1,\n",
       "         1, 1, 1, 1, 1, 1, 1, 1, 1, 1, 1, 1, 1, 1, 1, 1, 1, 1, 1, 1, 1, 1, 1, 1,\n",
       "         1, 1, 1, 1, 1, 1, 1, 1, 1, 1, 1, 1, 1, 1, 1, 1, 1, 1, 1, 1, 1, 1, 1, 1,\n",
       "         1, 1, 1, 1, 1, 1, 1, 1, 1, 1, 1, 1, 1, 1, 1, 1, 1, 1, 1, 1, 1, 1, 1, 1,\n",
       "         1, 1, 1, 1, 1, 1, 1, 1, 1, 1, 1, 1, 1, 1, 1, 1, 1, 1, 1, 1, 1, 1, 1, 1,\n",
       "         1, 1, 1, 1, 1, 1, 1, 1, 1, 1, 1, 1, 1, 1, 1, 1, 1, 1, 1, 1, 1, 1, 1, 1,\n",
       "         1, 1, 1, 1, 1, 1, 1, 1]])}"
      ]
     },
     "execution_count": 69,
     "metadata": {},
     "output_type": "execute_result"
    }
   ],
   "execution_count": 69
  },
  {
   "metadata": {},
   "cell_type": "markdown",
   "source": "Generate summary with custom parameters",
   "id": "865217e5a730afe1"
  },
  {
   "metadata": {
    "ExecuteTime": {
     "end_time": "2025-10-12T13:37:26.703404Z",
     "start_time": "2025-10-12T13:37:25.121735Z"
    }
   },
   "cell_type": "code",
   "source": [
    "summary_ids = model.generate(\n",
    "    **inputs,\n",
    "    max_length=30,  # maximum length of the summary\n",
    "    min_length=10,  # minimum length of the summary\n",
    "    num_beams=4,  # beam search for better results\n",
    "    length_penalty=1.0,  # penalize very long summaries\n",
    "    early_stopping=True,\n",
    ")\n",
    "tokenizer.decode(summary_ids[0], skip_special_tokens=True)"
   ],
   "id": "4e04ccbcb6aa99d7",
   "outputs": [
    {
     "data": {
      "text/plain": [
       "'to improve transparency around online ads have sparked a wave of criticism, as major platforms shut down political ads instead of complying'"
      ]
     },
     "execution_count": 70,
     "metadata": {},
     "output_type": "execute_result"
    }
   ],
   "execution_count": 70
  },
  {
   "metadata": {},
   "cell_type": "markdown",
   "source": "## Experiment",
   "id": "dd554d9bbec497f7"
  },
  {
   "metadata": {
    "ExecuteTime": {
     "end_time": "2025-10-12T13:37:38.548996Z",
     "start_time": "2025-10-12T13:37:38.246297Z"
    }
   },
   "cell_type": "code",
   "source": [
    "summary_ids = model.generate(\n",
    "    **inputs,\n",
    "    min_length=3,\n",
    "    max_length=5,\n",
    "    length_penalty=0.1,\n",
    ")\n",
    "summary_ids"
   ],
   "id": "7c0cdc935bd9e9a4",
   "outputs": [
    {
     "data": {
      "text/plain": [
       "tensor([[    0, 32099,     6,  1163,   243]])"
      ]
     },
     "execution_count": 71,
     "metadata": {},
     "output_type": "execute_result"
    }
   ],
   "execution_count": 71
  },
  {
   "metadata": {},
   "cell_type": "markdown",
   "source": "Limited",
   "id": "2420b90094a20e5c"
  },
  {
   "metadata": {
    "ExecuteTime": {
     "end_time": "2025-10-12T13:37:42.769412Z",
     "start_time": "2025-10-12T13:37:42.452189Z"
    }
   },
   "cell_type": "code",
   "source": [
    "summary_ids = model.generate(\n",
    "    **inputs,\n",
    "    min_length=3,\n",
    "    max_length=5,\n",
    "    length_penalty=0.1,\n",
    ")\n",
    "tokenizer.decode(summary_ids[0], skip_special_tokens=True)"
   ],
   "id": "246e98e08e0b16ef",
   "outputs": [
    {
     "data": {
      "text/plain": [
       "', Google said'"
      ]
     },
     "execution_count": 72,
     "metadata": {},
     "output_type": "execute_result"
    }
   ],
   "execution_count": 72
  },
  {
   "metadata": {},
   "cell_type": "markdown",
   "source": "Talkative",
   "id": "8acf09fd71c6df1"
  },
  {
   "metadata": {
    "ExecuteTime": {
     "end_time": "2025-10-12T13:21:14.476137Z",
     "start_time": "2025-10-12T13:20:49.113714Z"
    }
   },
   "cell_type": "code",
   "source": [
    "summary_ids = model.generate(\n",
    "    **inputs,\n",
    "    min_length=1000,\n",
    "    max_length=1000,\n",
    "    length_penalty=0.1,\n",
    ")\n",
    "tokenizer.decode(summary_ids[0], skip_special_tokens=True)"
   ],
   "id": "7273e8d5c7e60014",
   "outputs": [
    {
     "data": {
      "text/plain": [
       "'Fresh European Union rules intended to improve transparency around online advertisements have sparked a wave of criticism. Campaigners say the law will cause a harmful loss of information after it triggered companies to blackout. Politicians on both sides of the aisle said it could be detrimental to democratic debate. Google, Meta and Microsoft have all opted to stop showing political ads in the EU altogether. Politicians on both sides of the aisle said it could be detrimental to democratic debate. The Commission said it is aware of the serious concerns and is continuing talks with Big Tech companies to mitigate the unintended impacts. The law aims to improve transparency around online advertisements have sparked a wave of criticism. Google, Meta and Microsoft have opted to stop showing political ads in the EU altogether. The law is an example of over-regulation gone wild. The law sparked a wave of criticism. The law is intended to improve transparency around online advertisements. The law could be detrimental to democratic debate. The Commission said it is aware of the serious concerns and is continuing talks with Big Tech companies to mitigate the unintended impacts. The blackout will cause a harmful loss of information after it triggered companies to implement a blackout on political advertising. The law is an example of over-regulation gone wild. The Commission said it is aware of the serious concerns. The blackout will cause a harmful loss of information after it triggered companies to implement a blackout on political advertising. The law is an example of over-regulation gone wild. The Commission said it is aware of the serious concerns. The blackout will cause a harmful loss of information after it triggered companies to implement a blackout on political advertising. The law is a worrying signal of tech firms refusing to seek compromises with rule makers. The Commission said it is aware of the serious concerns. The law is an example of over-regulation gone wild. The law is a worrying signal of tech firms refusing to seek compromises with rule makers. The law is a warning. The Commission said it is aware of the serious concerns. The law is an example of over-regulation gone wild. The law sparked a wave of criticism. The law sparked a wave of criticism. The Commission said it could be detrimental to democratic debate. The Commission said it is aware of the serious concerns. The blackout will cause a harmful loss of information after it triggered companies including Google, Meta and Microsoft to implement a blackout on political advertising. The law is a worrying signal of tech firms refusing to seek compromises with rule makers. The Commission said it is aware of the serious concerns. The law is a bid to curb political manipulation and foreign interference during elections. The law is an example of over-regulation gone wild. The Commission said it is aware of the serious concerns. The Commission said it is aware of the serious concerns. The blackout will cause a harmful loss of information after it triggered companies including Google, Meta and Microsoft to stop showing political ads in the EU altogether. The blackout will cause a harmful loss of information after it triggered companies to implement a blackout on political advertising. The Commission said it is aware of the serious concerns. The Commission said it could be detrimental to democratic debate. The Commission said it is aware of the serious concerns. The law is a worrying signal of tech firms refusing to seek compromises with rule makers. The Commission said it is aware of the serious concerns. The law is a bid to curb political manipulation and foreign interference during elections. The law is a worrying signal. The law is a bid to curb political manipulation and foreign interference during elections. The law is a worrying signal. The Commission said it could be detrimental to democratic debate. The Commission said it is aware of the serious concerns. The blackout will cause a harmful loss of information after it triggered companies to implement a blackout on political advertising. The Commission said it is aware of the serious concerns. The Commission said it is aware of the serious concerns. The blackout will benefit fringe politicians with more extreme views. The Commission said it is aware of the serious concerns. The blackout will cause a harmful loss of information after it triggered companies to implement a blackout on political advertising. The Commission is aware of the serious concerns. The Commission is aware of the serious concerns. The law is a bid to curb political manipulation and foreign interference during elections. The law is a worrying signal of tech firms refusing to seek compromises with'"
      ]
     },
     "execution_count": 35,
     "metadata": {},
     "output_type": "execute_result"
    }
   ],
   "execution_count": 35
  },
  {
   "metadata": {},
   "cell_type": "markdown",
   "source": "Penalized",
   "id": "6775aae012664369"
  },
  {
   "metadata": {
    "ExecuteTime": {
     "end_time": "2025-10-12T13:37:52.466709Z",
     "start_time": "2025-10-12T13:37:49.754486Z"
    }
   },
   "cell_type": "code",
   "source": [
    "summary_ids = model.generate(\n",
    "    **inputs,\n",
    "    min_length=100,\n",
    "    max_length=200,\n",
    "    length_penalty=5.0,\n",
    ")\n",
    "tokenizer.decode(summary_ids[0], skip_special_tokens=True)"
   ],
   "id": "f4a0d502a199b6b5",
   "outputs": [
    {
     "data": {
      "text/plain": [
       "', Google said the definition of political advertising is too broad, while Meta criticized targeted ad restrictions. Politicians on both sides of the aisle said it could be detrimental to democratic debate. The Commission said it is aware of the serious concerns and is continuing talks with Big Tech companies to mitigate the unintended impacts. The new law on Transparency and Targeting of Political Advertising, which kicked in on Friday, brings new restrictions and transparency requirements for paid political ads.'"
      ]
     },
     "execution_count": 73,
     "metadata": {},
     "output_type": "execute_result"
    }
   ],
   "execution_count": 73
  },
  {
   "metadata": {},
   "cell_type": "markdown",
   "source": "Stable",
   "id": "6f57f33dac81ddb8"
  },
  {
   "metadata": {
    "ExecuteTime": {
     "end_time": "2025-10-12T13:37:56.308201Z",
     "start_time": "2025-10-12T13:37:52.495556Z"
    }
   },
   "cell_type": "code",
   "source": [
    "summary_ids = model.generate(\n",
    "    **inputs,\n",
    "    do_sample=False,\n",
    "    max_length=200,\n",
    "    min_length=50,\n",
    "    length_penalty=1.0,  # Neutral\n",
    "    num_beams=4,\n",
    "    early_stopping=True,\n",
    "    no_repeat_ngram_size=3,\n",
    ")\n",
    "tokenizer.decode(summary_ids[0], skip_special_tokens=True)"
   ],
   "id": "b7d3f882c8790254",
   "outputs": [
    {
     "data": {
      "text/plain": [
       "'to improve transparency around online ads have sparked a wave of criticism, as major platforms shut down political ads instead of complying. Campaigners say the law will cause a harmful loss of information after it triggered companies including Google, Meta and Microsoft to implement a blackout on political advertising. Politicians on both sides of the aisle said it could be detrimental to democratic debate.'"
      ]
     },
     "execution_count": 74,
     "metadata": {},
     "output_type": "execute_result"
    }
   ],
   "execution_count": 74
  },
  {
   "metadata": {},
   "cell_type": "markdown",
   "source": "Slightly creative",
   "id": "1dea40099e9b597f"
  },
  {
   "metadata": {
    "ExecuteTime": {
     "end_time": "2025-10-12T13:38:03.493401Z",
     "start_time": "2025-10-12T13:38:01.537454Z"
    }
   },
   "cell_type": "code",
   "source": [
    "summary_ids = model.generate(\n",
    "    **inputs,\n",
    "    do_sample=True,\n",
    "    temperature=0.7,\n",
    "    top_p=0.9,  # Nucleus sampling\n",
    "    max_length=200,\n",
    "    min_length=50,\n",
    "    length_penalty=1.2,  # Slight preference for completeness\n",
    "    no_repeat_ngram_size=3,\n",
    ")\n",
    "tokenizer.decode(summary_ids[0], skip_special_tokens=True)"
   ],
   "id": "517e65b7bcc06bb7",
   "outputs": [
    {
     "data": {
      "text/plain": [
       "\"Law, which kicked in on Friday, brings new restrictions and transparency requirements for paid political ads. Campaigners say the law will cause a harmful loss of information. At the heart of the EU's attempt is a bid to curb political manipulation and foreign interference during elections.\""
      ]
     },
     "execution_count": 75,
     "metadata": {},
     "output_type": "execute_result"
    }
   ],
   "execution_count": 75
  },
  {
   "metadata": {},
   "cell_type": "markdown",
   "source": [
    "## Load Dataset\n",
    "\n",
    "Take first 5 examples for demo"
   ],
   "id": "4aa31c9605f32f5"
  },
  {
   "metadata": {
    "ExecuteTime": {
     "end_time": "2025-10-12T13:22:46.364487Z",
     "start_time": "2025-10-12T13:21:22.948897Z"
    }
   },
   "cell_type": "code",
   "source": [
    "dataset = load_dataset(\"abisee/cnn_dailymail\", \"3.0.0\", split=\"train[:5]\")\n",
    "dataset"
   ],
   "id": "b58256886f5ca967",
   "outputs": [
    {
     "data": {
      "text/plain": [
       "README.md: 0.00B [00:00, ?B/s]"
      ],
      "application/vnd.jupyter.widget-view+json": {
       "version_major": 2,
       "version_minor": 0,
       "model_id": "055cfc96d14b4906821b17249138ae38"
      }
     },
     "metadata": {},
     "output_type": "display_data",
     "jetTransient": {
      "display_id": null
     }
    },
    {
     "data": {
      "text/plain": [
       "3.0.0/train-00000-of-00003.parquet:   0%|          | 0.00/257M [00:00<?, ?B/s]"
      ],
      "application/vnd.jupyter.widget-view+json": {
       "version_major": 2,
       "version_minor": 0,
       "model_id": "1415cecc90c3436197a9c293ef200c9a"
      }
     },
     "metadata": {},
     "output_type": "display_data",
     "jetTransient": {
      "display_id": null
     }
    },
    {
     "data": {
      "text/plain": [
       "3.0.0/train-00001-of-00003.parquet:   0%|          | 0.00/257M [00:00<?, ?B/s]"
      ],
      "application/vnd.jupyter.widget-view+json": {
       "version_major": 2,
       "version_minor": 0,
       "model_id": "5276e7389a0c4c43b11bc9c9cfe660fe"
      }
     },
     "metadata": {},
     "output_type": "display_data",
     "jetTransient": {
      "display_id": null
     }
    },
    {
     "data": {
      "text/plain": [
       "3.0.0/train-00002-of-00003.parquet:   0%|          | 0.00/259M [00:00<?, ?B/s]"
      ],
      "application/vnd.jupyter.widget-view+json": {
       "version_major": 2,
       "version_minor": 0,
       "model_id": "9df61b8154414f15a3ce932c5ed0c4a6"
      }
     },
     "metadata": {},
     "output_type": "display_data",
     "jetTransient": {
      "display_id": null
     }
    },
    {
     "data": {
      "text/plain": [
       "3.0.0/validation-00000-of-00001.parquet:   0%|          | 0.00/34.7M [00:00<?, ?B/s]"
      ],
      "application/vnd.jupyter.widget-view+json": {
       "version_major": 2,
       "version_minor": 0,
       "model_id": "8ce3f34ce1d54f678996c0b067b18df3"
      }
     },
     "metadata": {},
     "output_type": "display_data",
     "jetTransient": {
      "display_id": null
     }
    },
    {
     "data": {
      "text/plain": [
       "3.0.0/test-00000-of-00001.parquet:   0%|          | 0.00/30.0M [00:00<?, ?B/s]"
      ],
      "application/vnd.jupyter.widget-view+json": {
       "version_major": 2,
       "version_minor": 0,
       "model_id": "8ef9c2b159d44059b96010d5f5012587"
      }
     },
     "metadata": {},
     "output_type": "display_data",
     "jetTransient": {
      "display_id": null
     }
    },
    {
     "data": {
      "text/plain": [
       "Generating train split:   0%|          | 0/287113 [00:00<?, ? examples/s]"
      ],
      "application/vnd.jupyter.widget-view+json": {
       "version_major": 2,
       "version_minor": 0,
       "model_id": "305be41ca1f7431bbaa1b5521834db0c"
      }
     },
     "metadata": {},
     "output_type": "display_data",
     "jetTransient": {
      "display_id": null
     }
    },
    {
     "data": {
      "text/plain": [
       "Generating validation split:   0%|          | 0/13368 [00:00<?, ? examples/s]"
      ],
      "application/vnd.jupyter.widget-view+json": {
       "version_major": 2,
       "version_minor": 0,
       "model_id": "755932e85e1e4cd0b722634703c2c7cb"
      }
     },
     "metadata": {},
     "output_type": "display_data",
     "jetTransient": {
      "display_id": null
     }
    },
    {
     "data": {
      "text/plain": [
       "Generating test split:   0%|          | 0/11490 [00:00<?, ? examples/s]"
      ],
      "application/vnd.jupyter.widget-view+json": {
       "version_major": 2,
       "version_minor": 0,
       "model_id": "346710eec1744ac8b75af3e028db1416"
      }
     },
     "metadata": {},
     "output_type": "display_data",
     "jetTransient": {
      "display_id": null
     }
    },
    {
     "data": {
      "text/plain": [
       "Dataset({\n",
       "    features: ['article', 'highlights', 'id'],\n",
       "    num_rows: 5\n",
       "})"
      ]
     },
     "execution_count": 39,
     "metadata": {},
     "output_type": "execute_result"
    }
   ],
   "execution_count": 39
  },
  {
   "metadata": {
    "ExecuteTime": {
     "end_time": "2025-10-12T13:38:45.688196Z",
     "start_time": "2025-10-12T13:38:18.904158Z"
    }
   },
   "cell_type": "code",
   "source": [
    "data = []\n",
    "for i, sample in enumerate(dataset):\n",
    "    text = sample[\"article\"]\n",
    "    reference_summary = sample[\"highlights\"]\n",
    "    generated_summary = summarizer(\n",
    "        text,\n",
    "        min_length=30,\n",
    "        max_new_tokens=100,\n",
    "    )[0][\"summary_text\"]\n",
    "    data.append({\n",
    "        \"example_id\": i + 1,\n",
    "        \"article\": text,\n",
    "        \"reference_summary\": reference_summary,\n",
    "        \"generated_summary\": generated_summary\n",
    "    })"
   ],
   "id": "290b12b4e8c2c154",
   "outputs": [],
   "execution_count": 76
  },
  {
   "metadata": {
    "ExecuteTime": {
     "end_time": "2025-10-12T13:38:45.711459Z",
     "start_time": "2025-10-12T13:38:45.701107Z"
    }
   },
   "cell_type": "code",
   "source": [
    "df = pd.DataFrame(data)\n",
    "df"
   ],
   "id": "101ad8fb73c57402",
   "outputs": [
    {
     "data": {
      "text/plain": [
       "   example_id                                            article  \\\n",
       "0           1  LONDON, England (Reuters) -- Harry Potter star...   \n",
       "1           2  Editor's note: In our Behind the Scenes series...   \n",
       "2           3  MINNEAPOLIS, Minnesota (CNN) -- Drivers who we...   \n",
       "3           4  WASHINGTON (CNN) -- Doctors removed five small...   \n",
       "4           5  (CNN)  -- The National Football League has ind...   \n",
       "\n",
       "                                   reference_summary  \\\n",
       "0  Harry Potter star Daniel Radcliffe gets £20M f...   \n",
       "1  Mentally ill inmates in Miami are housed on th...   \n",
       "2  NEW: \"I thought I was going to die,\" driver sa...   \n",
       "3  Five small polyps found during procedure; \"non...   \n",
       "4  NEW: NFL chief, Atlanta Falcons owner critical...   \n",
       "\n",
       "                                   generated_summary  \n",
       "0  Daniel Radcliffe says he has no plans to fritt...  \n",
       "1  Inmates with the most severe mental illnesses ...  \n",
       "2  survivor: \"I probably had a 30-, 35-foot free ...  \n",
       "3  \"none appeared worrisome,\" White House spokesm...  \n",
       "4  NFL commissioner: \"Your admitted conduct was n...  "
      ],
      "text/html": [
       "<div>\n",
       "<style scoped>\n",
       "    .dataframe tbody tr th:only-of-type {\n",
       "        vertical-align: middle;\n",
       "    }\n",
       "\n",
       "    .dataframe tbody tr th {\n",
       "        vertical-align: top;\n",
       "    }\n",
       "\n",
       "    .dataframe thead th {\n",
       "        text-align: right;\n",
       "    }\n",
       "</style>\n",
       "<table border=\"1\" class=\"dataframe\">\n",
       "  <thead>\n",
       "    <tr style=\"text-align: right;\">\n",
       "      <th></th>\n",
       "      <th>example_id</th>\n",
       "      <th>article</th>\n",
       "      <th>reference_summary</th>\n",
       "      <th>generated_summary</th>\n",
       "    </tr>\n",
       "  </thead>\n",
       "  <tbody>\n",
       "    <tr>\n",
       "      <th>0</th>\n",
       "      <td>1</td>\n",
       "      <td>LONDON, England (Reuters) -- Harry Potter star...</td>\n",
       "      <td>Harry Potter star Daniel Radcliffe gets £20M f...</td>\n",
       "      <td>Daniel Radcliffe says he has no plans to fritt...</td>\n",
       "    </tr>\n",
       "    <tr>\n",
       "      <th>1</th>\n",
       "      <td>2</td>\n",
       "      <td>Editor's note: In our Behind the Scenes series...</td>\n",
       "      <td>Mentally ill inmates in Miami are housed on th...</td>\n",
       "      <td>Inmates with the most severe mental illnesses ...</td>\n",
       "    </tr>\n",
       "    <tr>\n",
       "      <th>2</th>\n",
       "      <td>3</td>\n",
       "      <td>MINNEAPOLIS, Minnesota (CNN) -- Drivers who we...</td>\n",
       "      <td>NEW: \"I thought I was going to die,\" driver sa...</td>\n",
       "      <td>survivor: \"I probably had a 30-, 35-foot free ...</td>\n",
       "    </tr>\n",
       "    <tr>\n",
       "      <th>3</th>\n",
       "      <td>4</td>\n",
       "      <td>WASHINGTON (CNN) -- Doctors removed five small...</td>\n",
       "      <td>Five small polyps found during procedure; \"non...</td>\n",
       "      <td>\"none appeared worrisome,\" White House spokesm...</td>\n",
       "    </tr>\n",
       "    <tr>\n",
       "      <th>4</th>\n",
       "      <td>5</td>\n",
       "      <td>(CNN)  -- The National Football League has ind...</td>\n",
       "      <td>NEW: NFL chief, Atlanta Falcons owner critical...</td>\n",
       "      <td>NFL commissioner: \"Your admitted conduct was n...</td>\n",
       "    </tr>\n",
       "  </tbody>\n",
       "</table>\n",
       "</div>"
      ]
     },
     "execution_count": 77,
     "metadata": {},
     "output_type": "execute_result"
    }
   ],
   "execution_count": 77
  },
  {
   "metadata": {},
   "cell_type": "markdown",
   "source": [
    "## Evaluate\n",
    "\n",
    "Compute ROUGE scores using the results"
   ],
   "id": "a4fe037734bdfaa4"
  },
  {
   "metadata": {
    "ExecuteTime": {
     "end_time": "2025-10-12T13:39:25.488674Z",
     "start_time": "2025-10-12T13:39:25.287124Z"
    }
   },
   "cell_type": "code",
   "source": [
    "results = rouge.compute(\n",
    "    predictions=df[\"generated_summary\"],\n",
    "    references=df[\"reference_summary\"],\n",
    ")\n",
    "results"
   ],
   "id": "4d357b8fda139dc9",
   "outputs": [
    {
     "data": {
      "text/plain": [
       "{'rouge1': np.float64(0.3059582620927158),\n",
       " 'rouge2': np.float64(0.1269496855345912),\n",
       " 'rougeL': np.float64(0.22430467136349486),\n",
       " 'rougeLsum': np.float64(0.25920752139239533)}"
      ]
     },
     "execution_count": 79,
     "metadata": {},
     "output_type": "execute_result"
    }
   ],
   "execution_count": 79
  }
 ],
 "metadata": {
  "kernelspec": {
   "display_name": "Python 3",
   "language": "python",
   "name": "python3"
  },
  "language_info": {
   "codemirror_mode": {
    "name": "ipython",
    "version": 2
   },
   "file_extension": ".py",
   "mimetype": "text/x-python",
   "name": "python",
   "nbconvert_exporter": "python",
   "pygments_lexer": "ipython2",
   "version": "2.7.6"
  }
 },
 "nbformat": 4,
 "nbformat_minor": 5
}
